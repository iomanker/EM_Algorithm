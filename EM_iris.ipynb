{
 "cells": [
  {
   "cell_type": "code",
   "execution_count": 2,
   "metadata": {},
   "outputs": [],
   "source": [
    "import seaborn as sns\n",
    "sns.set()\n",
    "import numpy as np\n",
    "from scipy.stats import multivariate_normal\n",
    "\n",
    "import matplotlib.pyplot as plt\n",
    "from matplotlib.patches import Ellipse\n",
    "import matplotlib.transforms as transforms\n",
    "from utils import *"
   ]
  },
  {
   "cell_type": "code",
   "execution_count": 3,
   "metadata": {},
   "outputs": [],
   "source": [
    "iris = sns.load_dataset(\"iris\")"
   ]
  },
  {
   "cell_type": "code",
   "execution_count": 7,
   "metadata": {},
   "outputs": [],
   "source": [
    "X = iris[['sepal_length', 'sepal_width', 'petal_length', 'petal_width']].values\n",
    "y = iris['species'].values"
   ]
  },
  {
   "cell_type": "code",
   "execution_count": 9,
   "metadata": {},
   "outputs": [
    {
     "data": {
      "text/plain": [
       "(150, 4)"
      ]
     },
     "execution_count": 9,
     "metadata": {},
     "output_type": "execute_result"
    }
   ],
   "source": [
    "X.shape"
   ]
  },
  {
   "cell_type": "code",
   "execution_count": 10,
   "metadata": {},
   "outputs": [
    {
     "data": {
      "text/plain": [
       "(150,)"
      ]
     },
     "execution_count": 10,
     "metadata": {},
     "output_type": "execute_result"
    }
   ],
   "source": [
    "y.shape"
   ]
  },
  {
   "cell_type": "code",
   "execution_count": 12,
   "metadata": {},
   "outputs": [],
   "source": [
    "K=3\n",
    "N=X.shape[0]\n",
    "D=X.shape[1]"
   ]
  },
  {
   "cell_type": "code",
   "execution_count": 13,
   "metadata": {},
   "outputs": [
    {
     "name": "stdout",
     "output_type": "stream",
     "text": [
      "N:  150  / D:  4\n"
     ]
    }
   ],
   "source": [
    "print(\"N: \", N, \" / D: \", D)"
   ]
  },
  {
   "cell_type": "code",
   "execution_count": 17,
   "metadata": {},
   "outputs": [],
   "source": [
    "mu = iris.groupby('species').mean().values + np.random.uniform(-1.5, 1.5, size=(K, D))\n",
    "sigma = np.array([np.eye(D) for k in range(K)])"
   ]
  },
  {
   "cell_type": "code",
   "execution_count": 20,
   "metadata": {},
   "outputs": [
    {
     "data": {
      "text/plain": [
       "(3, 4)"
      ]
     },
     "execution_count": 20,
     "metadata": {},
     "output_type": "execute_result"
    }
   ],
   "source": [
    "(iris.groupby('species').mean().values).shape"
   ]
  },
  {
   "cell_type": "code",
   "execution_count": 18,
   "metadata": {},
   "outputs": [
    {
     "data": {
      "text/plain": [
       "(3, 4)"
      ]
     },
     "execution_count": 18,
     "metadata": {},
     "output_type": "execute_result"
    }
   ],
   "source": [
    "mu.shape"
   ]
  },
  {
   "cell_type": "code",
   "execution_count": 19,
   "metadata": {},
   "outputs": [
    {
     "data": {
      "text/plain": [
       "(3, 4, 4)"
      ]
     },
     "execution_count": 19,
     "metadata": {},
     "output_type": "execute_result"
    }
   ],
   "source": [
    "sigma.shape"
   ]
  },
  {
   "cell_type": "code",
   "execution_count": 21,
   "metadata": {},
   "outputs": [
    {
     "data": {
      "text/plain": [
       "array([[[1., 0., 0., 0.],\n",
       "        [0., 1., 0., 0.],\n",
       "        [0., 0., 1., 0.],\n",
       "        [0., 0., 0., 1.]],\n",
       "\n",
       "       [[1., 0., 0., 0.],\n",
       "        [0., 1., 0., 0.],\n",
       "        [0., 0., 1., 0.],\n",
       "        [0., 0., 0., 1.]],\n",
       "\n",
       "       [[1., 0., 0., 0.],\n",
       "        [0., 1., 0., 0.],\n",
       "        [0., 0., 1., 0.],\n",
       "        [0., 0., 0., 1.]]])"
      ]
     },
     "execution_count": 21,
     "metadata": {},
     "output_type": "execute_result"
    }
   ],
   "source": [
    "sigma"
   ]
  },
  {
   "cell_type": "code",
   "execution_count": 22,
   "metadata": {},
   "outputs": [
    {
     "name": "stdout",
     "output_type": "stream",
     "text": [
      "[0.33333333 0.33333333 0.33333333]\n"
     ]
    }
   ],
   "source": [
    "w = np.array([1/K for k in range(K)])\n",
    "print(w)"
   ]
  },
  {
   "cell_type": "markdown",
   "metadata": {},
   "source": [
    "## E-step"
   ]
  },
  {
   "cell_type": "code",
   "execution_count": 16,
   "metadata": {},
   "outputs": [],
   "source": [
    "gamma_nk = np.zeros(shape=(N, K))"
   ]
  },
  {
   "cell_type": "code",
   "execution_count": 23,
   "metadata": {},
   "outputs": [
    {
     "data": {
      "text/plain": [
       "(150, 3)"
      ]
     },
     "execution_count": 23,
     "metadata": {},
     "output_type": "execute_result"
    }
   ],
   "source": [
    "gamma_nk.shape"
   ]
  },
  {
   "cell_type": "code",
   "execution_count": 26,
   "metadata": {},
   "outputs": [],
   "source": [
    "for k in range(K):\n",
    "    dist = multivariate_normal(mu[k], sigma[k])\n",
    "    gamma_nk[:,k] = dist.pdf(X)"
   ]
  },
  {
   "cell_type": "code",
   "execution_count": 46,
   "metadata": {},
   "outputs": [
    {
     "data": {
      "text/plain": [
       "(150, 3)"
      ]
     },
     "execution_count": 46,
     "metadata": {},
     "output_type": "execute_result"
    }
   ],
   "source": [
    "gamma_nk.shape"
   ]
  },
  {
   "cell_type": "code",
   "execution_count": 29,
   "metadata": {},
   "outputs": [
    {
     "name": "stdout",
     "output_type": "stream",
     "text": [
      "()\n"
     ]
    }
   ],
   "source": [
    "fit = np.sum(gamma_nk)\n",
    "print(fit.shape)"
   ]
  },
  {
   "cell_type": "code",
   "execution_count": 30,
   "metadata": {},
   "outputs": [
    {
     "data": {
      "text/plain": [
       "(150, 1)"
      ]
     },
     "execution_count": 30,
     "metadata": {},
     "output_type": "execute_result"
    }
   ],
   "source": [
    "((w*gamma_nk).sum(axis=1)[..., None]).shape"
   ]
  },
  {
   "cell_type": "code",
   "execution_count": 31,
   "metadata": {},
   "outputs": [],
   "source": [
    "gamma_nk = (w*gamma_nk) / ((w*gamma_nk).sum(axis=1)[..., None])"
   ]
  },
  {
   "cell_type": "code",
   "execution_count": 58,
   "metadata": {},
   "outputs": [],
   "source": [
    "def E_step(w,mu,sigma,X):\n",
    "    gamma_nk = np.zeros(shape=(N, K))\n",
    "    for k in range(K):\n",
    "        dist = multivariate_normal(mu[k], sigma[k])\n",
    "        gamma_nk[:,k] = dist.pdf(X)\n",
    "    gamma_nk = (w*gamma_nk) / ((w*gamma_nk).sum(axis=1)[..., None])\n",
    "    return gamma_nk"
   ]
  },
  {
   "cell_type": "markdown",
   "metadata": {},
   "source": [
    "## M-step"
   ]
  },
  {
   "cell_type": "code",
   "execution_count": 36,
   "metadata": {},
   "outputs": [
    {
     "name": "stdout",
     "output_type": "stream",
     "text": [
      "(150, 3, 1)\n",
      "(150, 1, 4)\n",
      "(3, 1)\n"
     ]
    }
   ],
   "source": [
    "print((gamma_nk[..., None]).shape)\n",
    "print(X[:, None, :].shape)\n",
    "print((gamma_nk).sum(axis=0)[:, None].shape)"
   ]
  },
  {
   "cell_type": "code",
   "execution_count": 35,
   "metadata": {},
   "outputs": [
    {
     "data": {
      "text/plain": [
       "array([0.31220968, 0.4020387 , 0.28575162])"
      ]
     },
     "execution_count": 35,
     "metadata": {},
     "output_type": "execute_result"
    }
   ],
   "source": [
    "w = gamma_nk.sum(axis=0) / N\n",
    "w"
   ]
  },
  {
   "cell_type": "code",
   "execution_count": 37,
   "metadata": {},
   "outputs": [
    {
     "name": "stdout",
     "output_type": "stream",
     "text": [
      "(3, 4)\n"
     ]
    }
   ],
   "source": [
    "mu = (gamma_nk[..., None]*X[:, None, :]).sum(axis=0)/(gamma_nk).sum(axis=0)[:, None]\n",
    "print(mu.shape)"
   ]
  },
  {
   "cell_type": "code",
   "execution_count": 43,
   "metadata": {},
   "outputs": [
    {
     "name": "stdout",
     "output_type": "stream",
     "text": [
      "(150, 3, 4)\n"
     ]
    }
   ],
   "source": [
    "out = X[:, None, :] - mu\n",
    "print(out.shape)"
   ]
  },
  {
   "cell_type": "code",
   "execution_count": 42,
   "metadata": {},
   "outputs": [
    {
     "name": "stdout",
     "output_type": "stream",
     "text": [
      "(150, 3, 4, 1)\n",
      "(150, 3, 1, 4)\n"
     ]
    }
   ],
   "source": [
    "print(out[:, :, :, None].shape)\n",
    "print(out[:, :, None, :].shape)"
   ]
  },
  {
   "cell_type": "code",
   "execution_count": 44,
   "metadata": {},
   "outputs": [
    {
     "name": "stdout",
     "output_type": "stream",
     "text": [
      "(150, 3, 4, 4)\n"
     ]
    }
   ],
   "source": [
    "out = (out[:, :, :, None] * out[:, :, None, :])\n",
    "print(out.shape)w = gamma_nk.sum(axis=0) / N"
   ]
  },
  {
   "cell_type": "code",
   "execution_count": 45,
   "metadata": {},
   "outputs": [
    {
     "name": "stdout",
     "output_type": "stream",
     "text": [
      "(150, 3, 1, 1)\n",
      "(3, 1, 1)\n"
     ]
    }
   ],
   "source": [
    "print(gamma_nk[...,None, None].shape)\n",
    "print(((gamma_nk).sum(axis=0)[:, None, None]).shape)"
   ]
  },
  {
   "cell_type": "code",
   "execution_count": 97,
   "metadata": {},
   "outputs": [
    {
     "name": "stdout",
     "output_type": "stream",
     "text": [
      "(3, 4, 4)\n",
      "(3, 1, 1)\n"
     ]
    }
   ],
   "source": [
    "print((gamma_nk[...,None, None]*out).sum(axis=0).shape)\n",
    "print((gamma_nk).sum(axis=0)[:, None, None].shape)"
   ]
  },
  {
   "cell_type": "code",
   "execution_count": null,
   "metadata": {},
   "outputs": [],
   "source": [
    "sigma = (gamma_nk[...,None, None]*out).sum(axis=0)/(gamma_nk).sum(axis=0)[:, None, None]"
   ]
  },
  {
   "cell_type": "code",
   "execution_count": 59,
   "metadata": {},
   "outputs": [],
   "source": [
    "def M_step(X, gamma_nk):\n",
    "    w = 1/N * gamma_nk.sum(axis=0)\n",
    "    mu = (gamma_nk[..., None]*X[:, None, :]).sum(axis=0)/(gamma_nk).sum(axis=0)[:, None]\n",
    "    out = X[:, None, :] - mu\n",
    "    out = (out[:, :, :, None] * out[:, :, None, :])\n",
    "    sigma = (gamma_nk[...,None, None]*out).sum(axis=0)/(gamma_nk).sum(axis=0)[:, None, None]\n",
    "    return w, mu, sigma"
   ]
  },
  {
   "cell_type": "markdown",
   "metadata": {},
   "source": [
    "## Iris\n",
    "* 3 種類別結果, 四種參數類型\n",
    "1. means = (3, 4)\n",
    "2. covs  = (3, 4, 4)\n",
    "3. phi(原code 為 w)= (1, 3)\n",
    "4. w 在原 code 為 gamma_nk = (150, 3)"
   ]
  },
  {
   "cell_type": "markdown",
   "metadata": {},
   "source": [
    "## 測試\n",
    "* 假設 3 種類別結果, 兩種參數類型"
   ]
  },
  {
   "cell_type": "code",
   "execution_count": 3,
   "metadata": {},
   "outputs": [],
   "source": [
    "# means = (3, 2)\n",
    "# covs  = (3, 2, 2)\n",
    "# phi   = (1, 3)\n",
    "mean_1, cov_1 = [0,0], [[20, 0], [0, 50]]\n",
    "mean_2, cov_2 = [-20, -20], [[40, 0], [0, 40]]\n",
    "mean_3, cov_3 = [40, 10], [[30, 0], [0, 20]]"
   ]
  },
  {
   "cell_type": "code",
   "execution_count": 4,
   "metadata": {},
   "outputs": [],
   "source": [
    "model1 = multivariate_normal(mean=mean_1, cov=cov_1)\n",
    "model2 = multivariate_normal(mean=mean_2, cov=cov_2)\n",
    "model3 = multivariate_normal(mean=mean_3, cov=cov_3)\n",
    "X1, Y1 = model1.rvs(size=50).T\n",
    "X2, Y2 = model2.rvs(size=50).T\n",
    "X3, Y3 = model3.rvs(size=50).T"
   ]
  },
  {
   "cell_type": "code",
   "execution_count": 10,
   "metadata": {},
   "outputs": [
    {
     "name": "stdout",
     "output_type": "stream",
     "text": [
      "(150, 2)\n"
     ]
    }
   ],
   "source": [
    "test_X = np.concatenate([[X1,Y1],[X2,Y2],[X3,Y3]], axis=1).T\n",
    "print(test_X.shape)"
   ]
  },
  {
   "cell_type": "code",
   "execution_count": 11,
   "metadata": {},
   "outputs": [
    {
     "data": {
      "text/plain": [
       "array([0.33333333, 0.33333333, 0.33333333])"
      ]
     },
     "execution_count": 11,
     "metadata": {},
     "output_type": "execute_result"
    }
   ],
   "source": [
    "w = np.array([1/K for k in range(K)])\n",
    "w"
   ]
  },
  {
   "cell_type": "code",
   "execution_count": 12,
   "metadata": {},
   "outputs": [],
   "source": [
    "K=3\n",
    "N=test_X.shape[0] # 150\n",
    "D=test_X.shape[1] # 2"
   ]
  },
  {
   "cell_type": "code",
   "execution_count": 16,
   "metadata": {},
   "outputs": [],
   "source": [
    "sigma = np.array([np.eye(D) for k in range(K)])"
   ]
  },
  {
   "cell_type": "code",
   "execution_count": 13,
   "metadata": {},
   "outputs": [
    {
     "name": "stdout",
     "output_type": "stream",
     "text": [
      "ell_radius_x:  1.0\n",
      "ell_radius_y:  1.0\n",
      "scale_x:  18.973665961010276\n",
      "scale_y:  18.973665961010276\n",
      "mean_x:  -20\n",
      "mean_y:  -20\n"
     ]
    },
    {
     "data": {
      "image/png": "[encoded data removed]",
      "text/plain": [
       "<Figure size 432x288 with 1 Axes>"
      ]
     },
     "metadata": {},
     "output_type": "display_data"
    }
   ],
   "source": [
    "fig, axs = plt.subplots()\n",
    "draw_ellipse(np.array(mean_1), np.array(cov_1), axs, edgecolor='blue')\n",
    "draw_ellipse(np.array(mean_2), np.array(cov_2), axs, ifprint=True, edgecolor='green')\n",
    "draw_ellipse(np.array(mean_3), np.array(cov_3), axs, edgecolor='red')\n",
    "axs.scatter(X1, Y1, marker='x')\n",
    "axs.scatter(X2, Y2, marker='x', color='g')\n",
    "axs.scatter(X3, Y3, marker='x', color='r')\n",
    "axs.axis('equal')\n",
    "plt.show()"
   ]
  },
  {
   "cell_type": "code",
   "execution_count": 60,
   "metadata": {},
   "outputs": [],
   "source": [
    "# mu = np.array([[X1.mean(), Y1.mean()], [X2.mean(), Y2.mean()], [X3.mean(), Y3.mean()]]) + np.random.uniform(-1.5, 1.5, size=(K, D))\n",
    "# sigma = np.array([np.eye(D) for k in range(K)])"
   ]
  },
  {
   "cell_type": "code",
   "execution_count": 61,
   "metadata": {},
   "outputs": [
    {
     "name": "stdout",
     "output_type": "stream",
     "text": [
      "(3, 2)\n",
      "(3, 2, 2)\n"
     ]
    }
   ],
   "source": [
    "print(mu.shape)\n",
    "print(sigma.shape)"
   ]
  },
  {
   "cell_type": "code",
   "execution_count": 64,
   "metadata": {},
   "outputs": [],
   "source": [
    "# E_step(w,mu,sigma,X)\n",
    "this_gamma_nk = E_step(w,mu,sigma,test_X)"
   ]
  },
  {
   "cell_type": "code",
   "execution_count": 65,
   "metadata": {},
   "outputs": [
    {
     "data": {
      "text/plain": [
       "(150, 3)"
      ]
     },
     "execution_count": 65,
     "metadata": {},
     "output_type": "execute_result"
    }
   ],
   "source": [
    "this_gamma_nk.shape"
   ]
  },
  {
   "cell_type": "code",
   "execution_count": 66,
   "metadata": {},
   "outputs": [],
   "source": [
    "# M_step(X, gamma_nk)\n",
    "new_w, new_mu, new_sigma = M_step(test_X, this_gamma_nk)"
   ]
  },
  {
   "cell_type": "code",
   "execution_count": 68,
   "metadata": {},
   "outputs": [
    {
     "data": {
      "text/plain": [
       "array([[ -0.20881957,  -1.19106211],\n",
       "       [-19.52130049, -20.46294548],\n",
       "       [ 39.51004128,   9.4615841 ]])"
      ]
     },
     "execution_count": 68,
     "metadata": {},
     "output_type": "execute_result"
    }
   ],
   "source": [
    "new_mu"
   ]
  },
  {
   "cell_type": "code",
   "execution_count": 70,
   "metadata": {},
   "outputs": [
    {
     "data": {
      "text/plain": [
       "array([[[17.63921315,  1.61797209],\n",
       "        [ 1.61797209, 38.7104949 ]],\n",
       "\n",
       "       [[26.18458676, -9.82028538],\n",
       "        [-9.82028538, 40.43272852]],\n",
       "\n",
       "       [[45.30265054, -0.21267465],\n",
       "        [-0.21267465, 25.73012455]]])"
      ]
     },
     "execution_count": 70,
     "metadata": {},
     "output_type": "execute_result"
    }
   ],
   "source": [
    "new_sigma"
   ]
  },
  {
   "cell_type": "code",
   "execution_count": 71,
   "metadata": {},
   "outputs": [
    {
     "name": "stdout",
     "output_type": "stream",
     "text": [
      "ell_radius_x:  0.8355771885805304\n",
      "ell_radius_y:  1.140969220410374\n",
      "scale_x:  15.351263166663989\n",
      "scale_y:  19.07602046304497\n",
      "mean_x:  -19.52130048760722\n",
      "mean_y:  -20.462945475525515\n"
     ]
    },
    {
     "data": {
      "image/png": "[encoded data removed]",
      "text/plain": [
       "<Figure size 432x288 with 1 Axes>"
      ]
     },
     "metadata": {},
     "output_type": "display_data"
    }
   ],
   "source": [
    "fig, axs = plt.subplots()\n",
    "draw_ellipse(np.array(new_mu[0]), np.array(new_sigma[0]), axs, edgecolor='blue')\n",
    "draw_ellipse(np.array(new_mu[1]), np.array(new_sigma[1]), axs, ifprint=True, edgecolor='green')\n",
    "draw_ellipse(np.array(new_mu[2]), np.array(new_sigma[2]), axs, edgecolor='red')\n",
    "axs.scatter(X1, Y1, marker='x')\n",
    "axs.scatter(X2, Y2, marker='x', color='g')\n",
    "axs.scatter(X3, Y3, marker='x', color='r')\n",
    "axs.axis('equal')\n",
    "plt.show()"
   ]
  },
  {
   "cell_type": "markdown",
   "metadata": {},
   "source": [
    "## Self implementation"
   ]
  },
  {
   "cell_type": "code",
   "execution_count": 19,
   "metadata": {},
   "outputs": [],
   "source": [
    "# https://en.wikipedia.org/wiki/EM_algorithm_and_GMM_model\n",
    "# K = 3, i (num_m) = 15\n",
    "def self_E_step(x, phis, means, covs):\n",
    "    # w = shape([phi, x]) (3,45)\n",
    "    w = np.zeros([phis.shape[0], x.shape[0]])\n",
    "    # phi = the probability for one model\n",
    "    # multivariate_normal\n",
    "    for i, xi in enumerate(x):\n",
    "        below = 0\n",
    "        for alpha, mean, cov in zip(phis, means, covs):\n",
    "            this_gaussian = multivariate_normal(mean=mean, cov=cov)\n",
    "            below += alpha * this_gaussian.pdf(xi)\n",
    "        \n",
    "        if below <= 0.0:\n",
    "            below = 1e-6\n",
    "        for j, alpha in enumerate(phis):\n",
    "            this_gaussian = multivariate_normal(mean=means[j], cov=covs[j])\n",
    "            above = alpha * this_gaussian.pdf(xi)\n",
    "            # print(above)\n",
    "            w[j, i] = above / below\n",
    "    return w\n",
    "\n",
    "def self_M_step(x, w):\n",
    "    # w = shape([phi, x]) (3,45)\n",
    "    # x = array([x1,x2,...,xn]) (45,2)\n",
    "    \n",
    "    w_each_sum = np.zeros((w.shape[0]))\n",
    "    for j in range(w.shape[0]):\n",
    "        w_each_sum[j] = w[j, :].sum()\n",
    "    \n",
    "    phis = w_each_sum / x.shape[0]\n",
    "    \n",
    "    mus = np.zeros((w.shape[0],x.shape[1]))\n",
    "    for j in range(w.shape[0]):\n",
    "        for i in range(x.shape[0]):\n",
    "            mus[j] += w[j, i] * x[i]\n",
    "        mus[j] = mus[j] / w_each_sum[j]\n",
    "    \n",
    "    sigma = np.zeros((w.shape[0],x.shape[1],x.shape[1]))\n",
    "    for j in range(w.shape[0]):\n",
    "        for i in range(x.shape[0]):\n",
    "            expand_matrix = np.repeat((x[i] - mus[j])[:,None], x.shape[1], 1)\n",
    "            sigma[j] += w[j, i] * (expand_matrix * expand_matrix.T)\n",
    "        sigma[j] = sigma[j] / w_each_sum[j]\n",
    "    return phis, mus, sigma\n",
    "\n",
    "def log_likelihood(w, x, phis, means, covs):\n",
    "    # w = (phi, x)\n",
    "    value = 0.0\n",
    "    for i in range(x.shape[0]): # 45\n",
    "        tmp_value = 0.0\n",
    "        for j in range(w.shape[0]): # 3\n",
    "            this_gaussian = multivariate_normal(mean=means[j], cov=covs[j])\n",
    "            tmp_value += phis[j] * this_gaussian.pdf(x[i])\n",
    "        value += np.log(tmp_value)\n",
    "    return value / (x.shape[0] + 1e-6)"
   ]
  },
  {
   "cell_type": "code",
   "execution_count": 75,
   "metadata": {},
   "outputs": [
    {
     "data": {
      "text/plain": [
       "array([[ -1.4615141 ,  -0.83845827],\n",
       "       [-19.98971587, -21.81908424],\n",
       "       [ 39.90111118,  10.630684  ]])"
      ]
     },
     "execution_count": 75,
     "metadata": {},
     "output_type": "execute_result"
    }
   ],
   "source": [
    "mu"
   ]
  },
  {
   "cell_type": "code",
   "execution_count": 83,
   "metadata": {},
   "outputs": [
    {
     "data": {
      "text/plain": [
       "(3, 150)"
      ]
     },
     "execution_count": 83,
     "metadata": {},
     "output_type": "execute_result"
    }
   ],
   "source": [
    "self_gamma_nk.shape"
   ]
  },
  {
   "cell_type": "code",
   "execution_count": 135,
   "metadata": {},
   "outputs": [],
   "source": [
    "self_gamma_nk = self_E_step(test_X,w,mu,sigma)"
   ]
  },
  {
   "cell_type": "code",
   "execution_count": 136,
   "metadata": {},
   "outputs": [],
   "source": [
    "self_new_w, self_new_mu, self_new_sigma = self_M_step(test_X,self_gamma_nk)"
   ]
  },
  {
   "cell_type": "code",
   "execution_count": 95,
   "metadata": {},
   "outputs": [
    {
     "data": {
      "text/plain": [
       "array([[[ 35.2784263 ,   3.23594417],\n",
       "        [  3.23594417,  77.4209898 ]],\n",
       "\n",
       "       [[ 52.36917351, -19.64057076],\n",
       "        [-19.64057076,  80.86545705]],\n",
       "\n",
       "       [[ 90.60530107,  -0.42534929],\n",
       "        [ -0.42534929,  51.4602491 ]]])"
      ]
     },
     "execution_count": 95,
     "metadata": {},
     "output_type": "execute_result"
    }
   ],
   "source": [
    "# 原自己寫的演算法a\n",
    "self_new_sigma"
   ]
  },
  {
   "cell_type": "code",
   "execution_count": 150,
   "metadata": {},
   "outputs": [],
   "source": [
    "self_new_mu = mu\n",
    "self_new_w = w\n",
    "self_new_sigma = sigma\n",
    "for i in range(10):\n",
    "    self_gamma_nk = self_E_step(test_X,self_new_w,self_new_mu,sigma)\n",
    "    self_new_w, self_new_mu, self_new_sigma = self_M_step(test_X,self_gamma_nk)"
   ]
  },
  {
   "cell_type": "code",
   "execution_count": 143,
   "metadata": {},
   "outputs": [
    {
     "name": "stdout",
     "output_type": "stream",
     "text": [
      "ell_radius_x:  0.8355771885680418\n",
      "ell_radius_y:  1.1409692204195199\n",
      "scale_x:  15.35126316662386\n",
      "scale_y:  19.076020464635228\n",
      "mean_x:  -19.521300487691242\n",
      "mean_y:  -20.46294547514515\n"
     ]
    },
    {
     "data": {
      "image/png": "[encoded data removed]",
      "text/plain": [
       "<Figure size 432x288 with 1 Axes>"
      ]
     },
     "metadata": {},
     "output_type": "display_data"
    }
   ],
   "source": [
    "fig, axs = plt.subplots()\n",
    "draw_ellipse(np.array(self_new_mu[0]), np.array(self_new_sigma[0]), axs, edgecolor='blue')\n",
    "draw_ellipse(np.array(self_new_mu[1]), np.array(self_new_sigma[1]), axs, ifprint=True, edgecolor='green')\n",
    "draw_ellipse(np.array(self_new_mu[2]), np.array(self_new_sigma[2]), axs, edgecolor='red')\n",
    "axs.scatter(X1, Y1, marker='x')\n",
    "axs.scatter(X2, Y2, marker='x', color='g')\n",
    "axs.scatter(X3, Y3, marker='x', color='r')\n",
    "axs.axis('equal')\n",
    "plt.show()"
   ]
  },
  {
   "cell_type": "code",
   "execution_count": 21,
   "metadata": {},
   "outputs": [
    {
     "name": "stderr",
     "output_type": "stream",
     "text": [
      "/home/labpc4/anaconda3/lib/python3.7/site-packages/ipykernel_launcher.py:55: RuntimeWarning: divide by zero encountered in log\n"
     ]
    },
    {
     "name": "stdout",
     "output_type": "stream",
     "text": [
      "Original log-likelihood:  -inf\n",
      "log-likelihood:  -7.84874012474342\n",
      "log-likelihood:  -7.821119793751088\n",
      "log-likelihood:  -7.816372394366605\n",
      "log-likelihood:  -7.808422964606934\n",
      "log-likelihood:  -7.794159558560538\n",
      "log-likelihood:  -7.771169411093941\n",
      "log-likelihood:  -7.739278735979329\n",
      "log-likelihood:  -7.69644595777286\n",
      "log-likelihood:  -7.633464545012569\n",
      "log-likelihood:  -7.520796472944696\n",
      "log-likelihood:  -7.369547950433694\n",
      "log-likelihood:  -7.363061299356506\n",
      "log-likelihood:  -7.362848492740163\n",
      "log-likelihood:  -7.362812426616077\n",
      "log-likelihood:  -7.362807051852876\n",
      "log-likelihood:  -7.362806289933172\n",
      "log-likelihood:  -7.36280618392362\n",
      "log-likelihood:  -7.362806169276493\n",
      "log-likelihood:  -7.362806167257988\n",
      "log-likelihood:  -7.362806166980086\n"
     ]
    }
   ],
   "source": [
    "# 不同 mean initial value\n",
    "diff_mu = np.array([[10,10],[-10,-10],[10,-10]]).astype(np.float32)\n",
    "self_new_mu = diff_mu\n",
    "self_new_w = w\n",
    "self_new_sigma = sigma\n",
    "self_gamma_nk = self_E_step(test_X,self_new_w,self_new_mu, self_new_sigma)\n",
    "loss_val = log_likelihood(self_gamma_nk, test_X, self_new_w, self_new_mu, self_new_sigma)\n",
    "print(\"Original log-likelihood: \", loss_val)\n",
    "for i in range(20):\n",
    "    self_gamma_nk = self_E_step(test_X,self_new_w,self_new_mu, self_new_sigma)\n",
    "    self_new_w, self_new_mu, self_new_sigma = self_M_step(test_X,self_gamma_nk)\n",
    "    \n",
    "    loss_val = log_likelihood(self_gamma_nk, test_X, self_new_w, self_new_mu, self_new_sigma)\n",
    "    print(\"log-likelihood: \", loss_val)"
   ]
  },
  {
   "cell_type": "code",
   "execution_count": 22,
   "metadata": {},
   "outputs": [
    {
     "name": "stdout",
     "output_type": "stream",
     "text": [
      "ell_radius_x:  1.0460999935947841\n",
      "ell_radius_y:  0.9516694822263624\n",
      "scale_x:  19.755744958667325\n",
      "scale_y:  18.561858255103708\n",
      "mean_x:  -19.90944306840804\n",
      "mean_y:  -19.115137025308183\n"
     ]
    },
    {
     "data": {
      "image/png": "[encoded data removed]",
      "text/plain": [
       "<Figure size 432x288 with 1 Axes>"
      ]
     },
     "metadata": {},
     "output_type": "display_data"
    }
   ],
   "source": [
    "fig, axs = plt.subplots()\n",
    "draw_ellipse(np.array(self_new_mu[0]), np.array(self_new_sigma[0]), axs, edgecolor='blue')\n",
    "draw_ellipse(np.array(self_new_mu[1]), np.array(self_new_sigma[1]), axs, ifprint=True, edgecolor='green')\n",
    "draw_ellipse(np.array(self_new_mu[2]), np.array(self_new_sigma[2]), axs, edgecolor='red')\n",
    "axs.scatter(X1, Y1, marker='x')\n",
    "axs.scatter(X2, Y2, marker='x', color='g')\n",
    "axs.scatter(X3, Y3, marker='x', color='r')\n",
    "axs.axis('equal')\n",
    "plt.show()"
   ]
  },
  {
   "cell_type": "code",
   "execution_count": null,
   "metadata": {},
   "outputs": [],
   "source": []
  }
 ],
 "metadata": {
  "kernelspec": {
   "display_name": "Python 3",
   "language": "python",
   "name": "python3"
  },
  "language_info": {
   "codemirror_mode": {
    "name": "ipython",
    "version": 3
   },
   "file_extension": ".py",
   "mimetype": "text/x-python",
   "name": "python",
   "nbconvert_exporter": "python",
   "pygments_lexer": "ipython3",
   "version": "3.7.6"
  }
 },
 "nbformat": 4,
 "nbformat_minor": 4
}
